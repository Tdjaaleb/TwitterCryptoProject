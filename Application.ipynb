{
 "cells": [
  {
   "cell_type": "code",
   "execution_count": 2,
   "metadata": {},
   "outputs": [],
   "source": [
    "from API_Keys import key,secret,access,access_s,bearer\n",
    "\n",
    "from binance.client import Client\n",
    "\n",
    "import tweepy\n",
    "\n",
    "from datetime import datetime, time\n"
   ]
  },
  {
   "cell_type": "code",
   "execution_count": 3,
   "metadata": {},
   "outputs": [],
   "source": [
    "client_bi=Client()\n",
    "\n",
    "client_twi = tweepy.Client(\n",
    "    bearer_token=bearer,\n",
    "    consumer_key=key,\n",
    "    consumer_secret=secret,\n",
    "    access_token=access,\n",
    "    access_token_secret=access_s\n",
    ")"
   ]
  },
  {
   "cell_type": "code",
   "execution_count": 4,
   "metadata": {},
   "outputs": [],
   "source": [
    "Name=\"elonmusk\"\n",
    "\n",
    "user = client_twi.get_user(username=Name)\n",
    "user_id = user.data[\"id\"]"
   ]
  },
  {
   "cell_type": "code",
   "execution_count": null,
   "metadata": {},
   "outputs": [],
   "source": [
    "#Créer le format date actuelle pour get_tweets\n",
    "timer=str(datetime.utcnow())\n",
    "\n",
    "timer=timer.replace(' ','T')\n",
    "timer=timer.split('.')[0]+'Z'\n",
    "\n",
    "print(timer)\n",
    "\n",
    "#Créer le format date réponse pour get_tweets\n",
    "t='2022-01-01 00:53:13+00:00'\n",
    "\n",
    "timer=t\n",
    "timer=timer.replace(' ','T')\n",
    "timer=timer.split('+')[0]+'Z'\n",
    "print(timer)"
   ]
  },
  {
   "cell_type": "code",
   "execution_count": 105,
   "metadata": {},
   "outputs": [],
   "source": [
    "Tweets = client_twi.get_users_tweets(\n",
    "    id=user_id,\n",
    "    max_results=100,\n",
    "    exclude='retweets',\n",
    "    tweet_fields='created_at',\n",
    "    end_time=timer)"
   ]
  },
  {
   "cell_type": "code",
   "execution_count": null,
   "metadata": {},
   "outputs": [],
   "source": [
    "def Get_All_Tweets(Username):\n",
    "    user = client_twi.get_user(username=Username)\n",
    "    user_id = user.data[\"id\"]\n",
    "\n",
    "    Tweets = client_twi.get_users_tweets(\n",
    "        id=user_id,\n",
    "        max_results=100,\n",
    "        exclude='retweets',\n",
    "        tweet_fields='created_at'\n",
    "        end_time=timer\n",
    "    )\n",
    "\n",
    "    tweet_id = Tweets.data[][\"id\"] #Id du tweet - int\n",
    "    tweet_text = Tweets.data[][\"text\"] #Texte du tweet - str\n",
    "    tweet_time = Tweets.data[].created_at #Date du tweet - datetime.datetime\n",
    "\n",
    "    timer = Tweets.data[0].created_at"
   ]
  }
 ],
 "metadata": {
  "interpreter": {
   "hash": "99b23ec55812992ec080f3d8cdb23ec1e509d41379dd6b6e2d028581bf31c73a"
  },
  "kernelspec": {
   "display_name": "Python 3.7.9 64-bit",
   "language": "python",
   "name": "python3"
  },
  "language_info": {
   "codemirror_mode": {
    "name": "ipython",
    "version": 3
   },
   "file_extension": ".py",
   "mimetype": "text/x-python",
   "name": "python",
   "nbconvert_exporter": "python",
   "pygments_lexer": "ipython3",
   "version": "3.9.9"
  },
  "orig_nbformat": 4
 },
 "nbformat": 4,
 "nbformat_minor": 2
}
